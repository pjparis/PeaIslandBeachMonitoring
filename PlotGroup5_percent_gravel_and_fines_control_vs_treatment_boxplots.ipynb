{
 "cells": [
  {
   "cell_type": "markdown",
   "metadata": {},
   "source": [
    "<h3>USFWS EDA Plot Group 5 Multi-survey percent gravel and fines control vs treatment box plots</3>"
   ]
  },
  {
   "cell_type": "markdown",
   "metadata": {},
   "source": [
    "This notebook, and the plots that extend from it, presents the distribution of coarse (gravels, phi = -1) and finer grain (phi >= 2.5) sands in the Pea Island surveyed beach data. \n",
    "\n",
    "Processing is grouped across all surveys such that the final plots show a series of boxplot pairs (control vs treatment) for each beach survey. **The key to making the magic happen in this notebook is the file: USFWS_Survey_Plotting_Data.csv. You need this file as input for generating the Group 5 plots!** Here, you'll find all of the survey data from the July, 2014 initial to the most recent (entered), computed as fractional weight percentages. Update the USFWS_Survey_Plotting_Data.csv file as new surveys are accumulated...\n",
    "\n",
    "The notebook \n",
    "\n",
    "\n",
    "**Supports:**\n",
    "\n",
    "transects=['C11','C10','C9','C8','C7','C6','C5','C4','C3','C2','C1','T1','T2','T3','T4','T5','T6','T7','T8','T9','T10',\n",
    "'T11','T12','T13','T14','T15','T16']\n",
    "\n",
    "surveys=[201407, 201409, 201504, 201508, 201602, 201605, 201608, 201610 ]\n",
    "\n",
    "phis=['phi-1','phi-0.5','phi_0','phi_0.5','phi_1','phi_1.25','phi_1.5','phi_1.75','phi_2','phi_2.5','phi_3','phi_3.5','phi_4','remainder']\n",
    "\n",
    "whole phis=['phi_-1','phi_0','phi_1','phi_2','phi_3','remainder']\n",
    "\n",
    "samples=['S1','S2','S3','S5','S4']\n",
    "<br /><br />\n",
    "\n",
    "--Notebook circa: 10/2016\n",
    "Author: Paul P\n",
    "<br />\n",
    "\n",
    "**Instructions:**\n",
    "1. Update the User Inputs cell, below, adding in the name of the new survey data spreadsheet and the id for the new survey\n",
    "2. Under Cell -> Run All\n",
    "\n",
    "\n",
    "\n",
    "**Notes:**\n",
    "1. The file USFWS_Survey_Plotting_Data.csv file should be updated to reflect any new beach monitoring surveys to add prior to running this notebook. The notebook PreProcess_Update_USFWS_Survey_Plotting_Data_file is designed to do this update.\n",
    "\n",
    "2. Keep in mind that, as you add more and more surveys, more and more surveys (boxplot pairs) will be drawn in the final plots. Things could thus get really crowded after a while!\n",
    "\n",
    "\n",
    "\n",
    "**Changes:**\n",
    "1. 3/31/2017 - Merged the phi 4 and remainder values into a single remainder column in the file USFWS_Survey_Plotting_Data.csv. The phi 4 screen was dropped early in the program and is no longer in use.\n",
    "\n",
    "\n",
    "<br />\n",
    "--keywords: Python, pandas, matplotlib, box plot, median, sand sediment grain size analysis, Pea Island, North Carolina"
   ]
  },
  {
   "cell_type": "markdown",
   "metadata": {},
   "source": [
    "<h4>Load the requisite modules and libraries</h4>"
   ]
  },
  {
   "cell_type": "code",
   "execution_count": 63,
   "metadata": {
    "collapsed": true
   },
   "outputs": [],
   "source": [
    "# import requiste Python libraries:\n",
    "import numpy as np\n",
    "import pandas as pd\n",
    "import matplotlib.pyplot as plt\n",
    "import seaborn as sns\n",
    "\n",
    "%matplotlib inline"
   ]
  },
  {
   "cell_type": "markdown",
   "metadata": {},
   "source": [
    "<h4>User Inputs: These are required!!!</h4>"
   ]
  },
  {
   "cell_type": "code",
   "execution_count": 64,
   "metadata": {
    "collapsed": true
   },
   "outputs": [],
   "source": [
    "####################################################################################\n",
    "\n",
    "sample='S5'\n",
    "date='03312017'      # MMDDYYYY  the plotting date. We use this to maintain older versions of the Group 5 plots\n",
    "\n",
    "####################################################################################"
   ]
  },
  {
   "cell_type": "markdown",
   "metadata": {},
   "source": [
    "<h4>Fixed inputs:</h4>"
   ]
  },
  {
   "cell_type": "code",
   "execution_count": 65,
   "metadata": {
    "collapsed": true
   },
   "outputs": [],
   "source": [
    "datapath='/Users/paulp/GoogleDrive/projects/PeaIslandBeachMonitoring/data/' # where your data is stored...\n",
    "fn='USFWS_Survey_Plotting_Data.csv'     # NOTE this file contains all surveys from 7/2014 thru..., inclusive\n",
    "\n",
    "plotpath='/Users/paulp/GoogleDrive/projects/PeaIslandBeachMonitoring/plots/plotGroup5/' # where your plots end up..."
   ]
  },
  {
   "cell_type": "markdown",
   "metadata": {},
   "source": [
    "<h4>Load data from source into a pandas dataframe</h4>"
   ]
  },
  {
   "cell_type": "code",
   "execution_count": 66,
   "metadata": {
    "collapsed": false
   },
   "outputs": [],
   "source": [
    "# use the following lines to read from source: 'USFWS_Survey_Plotting_Data.csv'  \n",
    "hdr=['group','transect','sample','survey','phi_-1','phi_-0.5','phi_0','phi_0.5','phi_1','phi_1.25','phi_1.5','phi_1.75','phi_2','phi_2.5','phi_3','phi_3.5','remainder']\n",
    "df=pd.read_csv(datapath+fn, names=hdr ).fillna(0) "
   ]
  },
  {
   "cell_type": "code",
   "execution_count": 67,
   "metadata": {
    "collapsed": false
   },
   "outputs": [
    {
     "data": {
      "text/plain": [
       "group         object\n",
       "transect      object\n",
       "sample        object\n",
       "survey         int64\n",
       "phi_-1       float64\n",
       "phi_-0.5     float64\n",
       "phi_0        float64\n",
       "phi_0.5      float64\n",
       "phi_1        float64\n",
       "phi_1.25     float64\n",
       "phi_1.5      float64\n",
       "phi_1.75     float64\n",
       "phi_2        float64\n",
       "phi_2.5      float64\n",
       "phi_3        float64\n",
       "phi_3.5      float64\n",
       "remainder    float64\n",
       "dtype: object"
      ]
     },
     "execution_count": 67,
     "metadata": {},
     "output_type": "execute_result"
    }
   ],
   "source": [
    "df.dtypes"
   ]
  },
  {
   "cell_type": "markdown",
   "metadata": {},
   "source": [
    "<h4>Data Preprocessing II: (Aggregating individual screens into gravel and fine fractions)</h4>"
   ]
  },
  {
   "cell_type": "code",
   "execution_count": 68,
   "metadata": {
    "collapsed": false
   },
   "outputs": [],
   "source": [
    "# compute the sample percentage that is in the gravel and fines fractions:\n",
    "# 1., sum all the individual bin (phi) weights:\n",
    "df['total_wt']=df['phi_-1']+df['phi_-0.5']+df['phi_0']+df['phi_0.5']+df['phi_1']+df['phi_1.25'] \\\n",
    "+df['phi_1.5']+df['phi_1.75']+df['phi_2']+df['phi_2.5']+df['phi_3']+df['phi_3.5']+df['remainder']\n",
    "\n",
    "# 2., using the phi_-1 field as the 'gravel' weight fraction:\n",
    "df['pgravel']=df['phi_-1']    #/df['total_wt'])*100.0\n",
    "\n",
    "               \n",
    "# 3., combine phi 2.5, 3.0, 3.5, 4.0, and pan (remainder) to create a fines field:\n",
    "df['pfines']=df['phi_2.5']+df['phi_3']+df['phi_3.5']+df['remainder']   #/df['total_wt'])*100.0\n",
    "\n",
    "# replace the NaN values in the new fields with 0s:\n",
    "df=df.fillna(0)\n",
    "\n",
    "# drop the now unnecessary fields: phi_-1, phi_-0.5, phi_0, phi_0.5, phi_1, phi_1.25, phi_1.5, phi_1.75, phi_2\n",
    "# phi_2.5, phi_3, phi_3.5, phi_4, and remainder:\n",
    "df=df.drop(['phi_-1','phi_-0.5','phi_0','phi_0.5','phi_1','phi_1.25','phi_1.5','phi_1.75','phi_2','phi_2.5'], axis=1)\n",
    "df=df.drop(['phi_3','phi_3.5','remainder'], axis=1)\n",
    "\n",
    "query_string = 'sample == '+'\\\"'+sample+'\\\"'\n",
    "df1=df.query(query_string)\n",
    "#df1=df.groupby(['survey', 'transect'], sort=False, as_index=False)[['pgravel','pfines']].sum()\n",
    "\n",
    "#df1"
   ]
  },
  {
   "cell_type": "markdown",
   "metadata": {},
   "source": [
    "<h4>Plot the Gravel Fraction</h4>"
   ]
  },
  {
   "cell_type": "code",
   "execution_count": 69,
   "metadata": {
    "collapsed": false
   },
   "outputs": [
    {
     "data": {
      "image/png": "[encoded data removed]",
      "text/plain": [
       "<matplotlib.figure.Figure at 0x10dea49b0>"
      ]
     },
     "metadata": {},
     "output_type": "display_data"
    }
   ],
   "source": [
    "####### LET'S PLOT STUFF -- THE GRAVELS #######\n",
    "\n",
    "figpg = plt.figure(figsize=(15,5))\n",
    "axspg = figpg.add_subplot(1,1,1)\n",
    "figpg.tight_layout(pad=5.1, w_pad=0.5, h_pad=2.0)\n",
    "\n",
    "sns.set_context('talk')\n",
    "sns.set(style=\"ticks\")\n",
    "#sns.set(rc={'axes.facecolor':'white', 'grid.color': 'white'})\n",
    "# nested boxplot showing percent gravel in samples by survey, by group\n",
    "axc=sns.boxplot(x='survey', y='pgravel', hue='group', data=df1, palette='PRGn' )\n",
    "\n",
    "axc.set(ylim=(0,100))\n",
    "sns.despine(offset=10, trim=True)\n",
    "\n",
    "plt.xticks(size=16)\n",
    "plt.yticks(size=16)\n",
    "axc.set_xlabel('') \n",
    "plt.ylabel('percent gravel', fontsize=20)\n",
    "axc.legend_.remove()\n",
    "\n",
    "plt.savefig(plotpath+'Sample_'+sample+'_'+date+'_percent_gravel.jpg', dpi=300) "
   ]
  },
  {
   "cell_type": "markdown",
   "metadata": {},
   "source": [
    "<h4>Plot the Fines Fraction</h4>"
   ]
  },
  {
   "cell_type": "code",
   "execution_count": 70,
   "metadata": {
    "collapsed": false
   },
   "outputs": [
    {
     "data": {
      "image/png": "[encoded data removed]",
      "text/plain": [
       "<matplotlib.figure.Figure at 0x1111a8080>"
      ]
     },
     "metadata": {},
     "output_type": "display_data"
    }
   ],
   "source": [
    "####### LET'S PLOT STUFF -- THE FINES #######\n",
    "\n",
    "sns.set_context('talk')\n",
    "figpf = plt.figure(figsize=(15,5))\n",
    "axspf = figpf.add_subplot(1,1,1)\n",
    "figpf.tight_layout(pad=3.1, w_pad=0.5, h_pad=2.0)\n",
    "\n",
    "sns.set(style=\"ticks\")\n",
    "\n",
    "# nested boxplot showing percent fines in samples by survey, by group\n",
    "axf=sns.boxplot(x='survey', y='pfines', hue='group', data=df1, palette='PRGn' )\n",
    "\n",
    "axf.set(ylim=(0,80))\n",
    "sns.despine(offset=10, trim=True)  # despine must come AFTER the axis limits are set!!!\n",
    "\n",
    "plt.xticks(size=16)\n",
    "plt.yticks(size=16)\n",
    "axf.set_xlabel('')    #plt.xlabel('survey', fontsize=14)\n",
    "plt.ylabel('percent fines', fontsize=20)\n",
    "axf.legend_.remove()\n",
    "\n",
    "plt.savefig(plotpath+'Sample_'+sample+'_'+date+'_percent_fines.jpg', dpi=300)       "
   ]
  }
 ],
 "metadata": {
  "anaconda-cloud": {},
  "kernelspec": {
   "display_name": "Python 3",
   "language": "python",
   "name": "python3"
  },
  "language_info": {
   "codemirror_mode": {
    "name": "ipython",
    "version": 3
   },
   "file_extension": ".py",
   "mimetype": "text/x-python",
   "name": "python",
   "nbconvert_exporter": "python",
   "pygments_lexer": "ipython3",
   "version": "3.5.2"
  },
  "latex_envs": {
   "bibliofile": "biblio.bib",
   "cite_by": "apalike",
   "current_citInitial": 1,
   "eqLabelWithNumbers": true,
   "eqNumInitial": 0
  },
  "toc": {
   "navigate_menu": true,
   "number_sections": true,
   "sideBar": true,
   "threshold": 4,
   "toc_cell": false,
   "toc_section_display": "block",
   "toc_window_display": false
  }
 },
 "nbformat": 4,
 "nbformat_minor": 0
}
