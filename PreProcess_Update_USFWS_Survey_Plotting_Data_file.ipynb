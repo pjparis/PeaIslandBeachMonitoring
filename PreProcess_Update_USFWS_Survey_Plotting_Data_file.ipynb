{
 "cells": [
  {
   "cell_type": "markdown",
   "metadata": {},
   "source": [
    "<h3>PreProcess: Update the existing USFWS Survey Plotting Data (.csv) file</h3>"
   ]
  },
  {
   "cell_type": "markdown",
   "metadata": {},
   "source": [
    "Updates the very important data file: USFWS_Survey_Plotting_Data.csv. Use this notebook to add new survey data, as surveys are collected. \n",
    "\n",
    "**NOTE: The Plot Group 5 series relies on the USFWS_Survey_Plotting_Data.csv file to generate its box plots.**\n",
    "\n",
    "<br />\n",
    "**Instructions:**\n",
    "1. Update the User Inputs cell, below, adding in the name of the new survey data spreadsheet and the id for the new survey\n",
    "2. Under Cell -> Run All"
   ]
  },
  {
   "cell_type": "markdown",
   "metadata": {},
   "source": [
    "<h4>Import requisite modules and libraries</h4>"
   ]
  },
  {
   "cell_type": "code",
   "execution_count": 1,
   "metadata": {
    "collapsed": true
   },
   "outputs": [],
   "source": [
    "import numpy as np\n",
    "import pandas as pd"
   ]
  },
  {
   "cell_type": "markdown",
   "metadata": {},
   "source": [
    "<h4>User Inputs:</h4>"
   ]
  },
  {
   "cell_type": "code",
   "execution_count": 5,
   "metadata": {
    "collapsed": true
   },
   "outputs": [],
   "source": [
    "####################################################################################\n",
    "datapath='/Users/paulp/GoogleDrive/projects/PeaIslandBeachMonitoring/data/' # where your existing Survey file is stored...\n",
    "sspath='/Users/paulp/GoogleDrive/projects/PeaIslandBeachMonitoring/data/xls/' # where your spreadsheet is stored\n",
    "\n",
    "spdfn='USFWS_Survey_Plotting_Data.csv'     # NOTE this file contains all surveys from 7/2014 thru ???, inclusive\n",
    "\n",
    "nsfn ='FWSGrainSizeAnalysis2016_10.xlsx'   # name of new survey file whose data are to be added to spdfn\n",
    "new_survey='201610'  \n",
    "####################################################################################"
   ]
  },
  {
   "cell_type": "markdown",
   "metadata": {},
   "source": [
    "<h4>Load data from the existing USFWS Survey Data file and from the new survey spreadsheet</h4>"
   ]
  },
  {
   "cell_type": "code",
   "execution_count": 29,
   "metadata": {
    "collapsed": false
   },
   "outputs": [],
   "source": [
    "cols=(['group','transect','sample','survey','phi_-1','phi_-0.5','phi_0','phi_0.5','phi_1','phi_1.25','phi_1.5','phi_1.75','phi_2','phi_2.5','phi_3','phi_3.5','phi_4','remainder'])\n",
    "spd_df=pd.read_csv(datapath+spdfn, names=cols)\n",
    "\n",
    "ss_df=pd.read_excel(sspath+nsfn, skiprows=0)"
   ]
  },
  {
   "cell_type": "markdown",
   "metadata": {},
   "source": [
    "<h4>Data Preprocessing I: (Converting the absolute screen weights from the spreadsheet into fraction weight percentages:</h4>"
   ]
  },
  {
   "cell_type": "code",
   "execution_count": 30,
   "metadata": {
    "collapsed": true
   },
   "outputs": [],
   "source": [
    "### Convert screen absolute weights posted in the spreadsheet df ss_df to weight percentages:\n",
    "\n",
    "# recompute the total weight of the samples, just in case the summed_weight field is flawed...\n",
    "ss_df['total_weight']=ss_df[['phi_-1', 'phi_-0,5','phi_0', 'phi_0,5','phi_1', 'phi_1,25','phi_1,5','phi_1,75',\n",
    "'phi_2','phi_2,5','phi_3','phi_3,5','remainder']].sum(axis=1)\n",
    "\n",
    "# recast the absolute screen weights to weight percent fractions: (This is meathead. There must be a better way!)\n",
    "ss_df['phi_-1'] = (ss_df['phi_-1'] / ss_df['total_weight'])*100\n",
    "ss_df['phi_-0,5'] = (ss_df['phi_-0,5'] / ss_df['total_weight'])*100\n",
    "ss_df['phi_0'] = (ss_df['phi_0'] / ss_df['total_weight'])*100\n",
    "ss_df['phi_0,5'] = (ss_df['phi_0,5'] / ss_df['total_weight'])*100\n",
    "ss_df['phi_1'] = (ss_df['phi_1'] / ss_df['total_weight'])*100\n",
    "ss_df['phi_1,25'] = (ss_df['phi_1,25'] / ss_df['total_weight'])*100\n",
    "ss_df['phi_1,5'] = (ss_df['phi_1,5'] / ss_df['total_weight'])*100\n",
    "ss_df['phi_1,75'] = (ss_df['phi_1,75'] / ss_df['total_weight'])*100\n",
    "ss_df['phi_2'] = (ss_df['phi_2'] / ss_df['total_weight'])*100\n",
    "ss_df['phi_2,5'] = (ss_df['phi_2,5'] / ss_df['total_weight'])*100\n",
    "ss_df['phi_3'] = (ss_df['phi_3'] / ss_df['total_weight'])*100\n",
    "ss_df['phi_3,5'] = (ss_df['phi_3,5'] / ss_df['total_weight'])*100\n",
    "ss_df['remainder'] = (ss_df['remainder'] / ss_df['total_weight'])*100"
   ]
  },
  {
   "cell_type": "markdown",
   "metadata": {},
   "source": [
    "<h4>Data Preprocessing II: (Adding the group field - classifies record as belonging either to the control or treatment group)"
   ]
  },
  {
   "cell_type": "code",
   "execution_count": 31,
   "metadata": {
    "collapsed": false
   },
   "outputs": [],
   "source": [
    "## create a populate new group column (field) based on transect id type (e.g., control or transect):\n",
    "ss_df.loc[ss_df['transect_id'].str[0] == 'C', 'Group'] ='control'\n",
    "ss_df.loc[ss_df['transect_id'].str[0] =='T', 'Group'] = 'treatment'"
   ]
  },
  {
   "cell_type": "markdown",
   "metadata": {},
   "source": [
    "<h4>Data Preprocessing III: (Adding the survey, and 'dummy' phi_4, fields to the ss_df dataframe. We add the dummy phi 4 field to account for its existence in early surveys, and thus a presence in the Survey Data File. It's no longer used, but it's influence from the early days remains with us...)</h4>"
   ]
  },
  {
   "cell_type": "code",
   "execution_count": 44,
   "metadata": {
    "collapsed": false
   },
   "outputs": [],
   "source": [
    "ss_df['survey']=new_survey\n",
    "ss_df['phi_4']=np.nan"
   ]
  },
  {
   "cell_type": "markdown",
   "metadata": {},
   "source": [
    "<h4>Data Preprocessing IV: (re-sculpting the ss_df dataframe to match that of the spd_df. Actually, we'll create a new spreadsheet with just the stuff from ss_df that we want, in the order that we want, so that we can then proceed to merge (stack vertically) the two (spd_df + ss_df(new))"
   ]
  },
  {
   "cell_type": "code",
   "execution_count": 50,
   "metadata": {
    "collapsed": false
   },
   "outputs": [],
   "source": [
    "cols=(['group','transect','sample','survey','phi_-1','phi_-0.5','phi_0','phi_0.5','phi_1','phi_1.25','phi_1.5','phi_1.75','phi_2','phi_2.5','phi_3','phi_3.5','phi_4','remainder'])\n",
    "\n",
    "ss2_df=ss_df[['Group','transect_id','sample_number','survey','phi_-1','phi_-0,5','phi_0','phi_0,5','phi_1','phi_1,25','phi_1,5','phi_1,75','phi_2','phi_2,5','phi_3','phi_3,5','phi_4','remainder']]\n",
    "ss2_df.columns=cols\n"
   ]
  },
  {
   "cell_type": "markdown",
   "metadata": {},
   "source": [
    "<h4>Merge thee two data frames, spd_df and ss2_df, to create one big one that will be written out, in the next cell, to the filesystem to create the latest iteration of the USFWS_Survey_Plotting_Data.csv file...</h4>"
   ]
  },
  {
   "cell_type": "code",
   "execution_count": null,
   "metadata": {
    "collapsed": true
   },
   "outputs": [],
   "source": []
  }
 ],
 "metadata": {
  "kernelspec": {
   "display_name": "Python 3",
   "language": "python",
   "name": "python3"
  },
  "language_info": {
   "codemirror_mode": {
    "name": "ipython",
    "version": 3
   },
   "file_extension": ".py",
   "mimetype": "text/x-python",
   "name": "python",
   "nbconvert_exporter": "python",
   "pygments_lexer": "ipython3",
   "version": "3.5.2"
  }
 },
 "nbformat": 4,
 "nbformat_minor": 2
}
