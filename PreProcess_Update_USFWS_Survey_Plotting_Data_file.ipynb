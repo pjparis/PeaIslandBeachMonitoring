{
 "cells": [
  {
   "cell_type": "markdown",
   "metadata": {},
   "source": [
    "<h3>PreProcess: Update the existing USFWS Survey Plotting Data (.csv) file</h3>"
   ]
  },
  {
   "cell_type": "markdown",
   "metadata": {},
   "source": [
    "Updates the very important data file: USFWS_Survey_Plotting_Data.csv. Use this notebook to add new survey data, as surveys are collected. \n",
    "\n",
    "**NOTE: The Plot Group 5 series relies on the USFWS_Survey_Plotting_Data.csv file to generate its box plots.**\n",
    "\n",
    "<br />\n",
    "**Instructions:**\n",
    "1. Update the User Inputs cell, below, adding in the name of the new survey data spreadsheet and the id for the new survey\n",
    "2. Under Cell -> Run All\n",
    "\n",
    "\n",
    "**Changes:**\n",
    "1. 3/31/2017 - Merged the phi 4 and remainder values into a single remainder column in the file USFWS_Survey_Plotting_Data.csv. The phi 4 screen was dropped early in the program and is no longer in use."
   ]
  },
  {
   "cell_type": "markdown",
   "metadata": {},
   "source": [
    "<h4>Import requisite modules and libraries</h4>"
   ]
  },
  {
   "cell_type": "code",
   "execution_count": 120,
   "metadata": {
    "collapsed": true
   },
   "outputs": [],
   "source": [
    "import numpy as np\n",
    "import pandas as pd"
   ]
  },
  {
   "cell_type": "markdown",
   "metadata": {},
   "source": [
    "<h4>User Inputs:</h4>"
   ]
  },
  {
   "cell_type": "code",
   "execution_count": 121,
   "metadata": {
    "collapsed": true
   },
   "outputs": [],
   "source": [
    "####################################################################################\n",
    "datapath='/Users/paulp/GoogleDrive/projects/PeaIslandBeachMonitoring/data/' # where your existing Survey file is stored...\n",
    "sspath='/Users/paulp/GoogleDrive/projects/PeaIslandBeachMonitoring/data/xls/' # where your spreadsheet is stored\n",
    "\n",
    "spdfn='USFWS_Survey_Plotting_Data.csv'     # NOTE this file contains all surveys from 7/2014 thru ???, inclusive\n",
    "\n",
    "nsfn ='FWSGrainSizeAnalysis2016_10.xlsx'   # name of new survey file whose data are to be added to spdfn\n",
    "new_survey='201610'  \n",
    "####################################################################################"
   ]
  },
  {
   "cell_type": "markdown",
   "metadata": {},
   "source": [
    "<h4>Load data from the existing USFWS Survey Data file and from the new survey spreadsheet</h4>"
   ]
  },
  {
   "cell_type": "code",
   "execution_count": 122,
   "metadata": {
    "collapsed": false
   },
   "outputs": [],
   "source": [
    "cols=(['group','transect','sample','survey','phi_-1','phi_-0.5','phi_0','phi_0.5','phi_1','phi_1.25','phi_1.5','phi_1.75','phi_2','phi_2.5','phi_3','phi_3.5','remainder'])\n",
    "spd_df=pd.read_csv(datapath+spdfn, names=cols)\n",
    "\n",
    "ss_df=pd.read_excel(sspath+nsfn, skiprows=0)"
   ]
  },
  {
   "cell_type": "markdown",
   "metadata": {},
   "source": [
    "<h4>Data Preprocessing I: (Converting the absolute screen weights from the spreadsheet into fraction weight percentages:</h4>"
   ]
  },
  {
   "cell_type": "code",
   "execution_count": 123,
   "metadata": {
    "collapsed": true
   },
   "outputs": [],
   "source": [
    "### Convert screen absolute weights posted in the spreadsheet df ss_df to weight percentages:\n",
    "\n",
    "# recompute the total weight of the samples, just in case the summed_weight field is flawed...\n",
    "ss_df['total_weight']=ss_df[['phi_-1', 'phi_-0,5','phi_0', 'phi_0,5','phi_1', 'phi_1,25','phi_1,5','phi_1,75',\n",
    "'phi_2','phi_2,5','phi_3','phi_3,5','remainder']].sum(axis=1)\n",
    "\n",
    "# recast the absolute screen weights to weight percent fractions: (This is meathead. There must be a better way!)\n",
    "ss_df['phi_-1'] = (ss_df['phi_-1'] / ss_df['total_weight'])*100\n",
    "ss_df['phi_-0,5'] = (ss_df['phi_-0,5'] / ss_df['total_weight'])*100\n",
    "ss_df['phi_0'] = (ss_df['phi_0'] / ss_df['total_weight'])*100\n",
    "ss_df['phi_0,5'] = (ss_df['phi_0,5'] / ss_df['total_weight'])*100\n",
    "ss_df['phi_1'] = (ss_df['phi_1'] / ss_df['total_weight'])*100\n",
    "ss_df['phi_1,25'] = (ss_df['phi_1,25'] / ss_df['total_weight'])*100\n",
    "ss_df['phi_1,5'] = (ss_df['phi_1,5'] / ss_df['total_weight'])*100\n",
    "ss_df['phi_1,75'] = (ss_df['phi_1,75'] / ss_df['total_weight'])*100\n",
    "ss_df['phi_2'] = (ss_df['phi_2'] / ss_df['total_weight'])*100\n",
    "ss_df['phi_2,5'] = (ss_df['phi_2,5'] / ss_df['total_weight'])*100\n",
    "ss_df['phi_3'] = (ss_df['phi_3'] / ss_df['total_weight'])*100\n",
    "ss_df['phi_3,5'] = (ss_df['phi_3,5'] / ss_df['total_weight'])*100\n",
    "ss_df['remainder'] = (ss_df['remainder'] / ss_df['total_weight'])*100"
   ]
  },
  {
   "cell_type": "markdown",
   "metadata": {},
   "source": [
    "<h4>Data Preprocessing II: (Adding the group field - classifies record as belonging either to the control or treatment group)"
   ]
  },
  {
   "cell_type": "code",
   "execution_count": 124,
   "metadata": {
    "collapsed": false
   },
   "outputs": [],
   "source": [
    "## create a populate new group column (field) based on transect id type (e.g., control or transect):\n",
    "ss_df.loc[ss_df['transect_id'].str[0] == 'C', 'Group'] ='control'\n",
    "ss_df.loc[ss_df['transect_id'].str[0] =='T', 'Group'] = 'treatment'"
   ]
  },
  {
   "cell_type": "markdown",
   "metadata": {},
   "source": [
    "<h4>Data Preprocessing III: (Adding the survey, and 'dummy' phi_4, fields to the ss_df dataframe. We add the dummy phi 4 field to account for its existence in early surveys, and thus a presence in the Survey Data File. It's no longer used, but it's influence from the early days remains with us...)</h4>"
   ]
  },
  {
   "cell_type": "code",
   "execution_count": 125,
   "metadata": {
    "collapsed": false
   },
   "outputs": [],
   "source": [
    "ss_df['survey']=new_survey\n",
    "ss_df['phi_4']=np.nan"
   ]
  },
  {
   "cell_type": "markdown",
   "metadata": {},
   "source": [
    "<h4>Data Preprocessing IV: (re-sculpting the ss_df dataframe to match that of the spd_df. Actually, we'll create a new spreadsheet with just the stuff from ss_df that we want, in the order that we want, so that we can then proceed to merge (stack vertically) the two (spd_df + ss_df(new))"
   ]
  },
  {
   "cell_type": "code",
   "execution_count": 126,
   "metadata": {
    "collapsed": false
   },
   "outputs": [],
   "source": [
    "cols=(['group','transect','sample','survey','phi_-1','phi_-0.5','phi_0','phi_0.5','phi_1','phi_1.25','phi_1.5','phi_1.75','phi_2','phi_2.5','phi_3','phi_3.5','remainder'])\n",
    "\n",
    "ss2_df=ss_df[['Group','transect_id','sample_number','survey','phi_-1','phi_-0,5','phi_0','phi_0,5','phi_1','phi_1,25','phi_1,5','phi_1,75','phi_2','phi_2,5','phi_3','phi_3,5','remainder']]\n",
    "ss2_df.columns=cols"
   ]
  },
  {
   "cell_type": "markdown",
   "metadata": {},
   "source": [
    "<h4>Merge thee two data frames, spd_df and ss2_df, to create one big one that will be written out, in the next cell, to the filesystem to create the latest iteration of the USFWS_Survey_Plotting_Data.csv file...</h4>"
   ]
  },
  {
   "cell_type": "code",
   "execution_count": 127,
   "metadata": {
    "collapsed": false
   },
   "outputs": [],
   "source": [
    "cat_df = pd.concat([spd_df, ss2_df], ignore_index=True)\n",
    "cat_df=cat_df[cat_df.group.notnull()]"
   ]
  },
  {
   "cell_type": "code",
   "execution_count": 128,
   "metadata": {
    "collapsed": false
   },
   "outputs": [
    {
     "data": {
      "text/plain": [
       "group         object\n",
       "transect      object\n",
       "sample        object\n",
       "survey        object\n",
       "phi_-1       float64\n",
       "phi_-0.5     float64\n",
       "phi_0        float64\n",
       "phi_0.5      float64\n",
       "phi_1        float64\n",
       "phi_1.25     float64\n",
       "phi_1.5      float64\n",
       "phi_1.75     float64\n",
       "phi_2        float64\n",
       "phi_2.5      float64\n",
       "phi_3        float64\n",
       "phi_3.5      float64\n",
       "remainder    float64\n",
       "dtype: object"
      ]
     },
     "execution_count": 128,
     "metadata": {},
     "output_type": "execute_result"
    }
   ],
   "source": [
    "cat_df.dtypes"
   ]
  },
  {
   "cell_type": "markdown",
   "metadata": {},
   "source": [
    "<h4>Write the cat_df dataframe out to external comma-separated values file, to replace the existing USFWS_Survey_Plotting_Data_file.csv:</h4>"
   ]
  },
  {
   "cell_type": "code",
   "execution_count": 129,
   "metadata": {
    "collapsed": true
   },
   "outputs": [],
   "source": [
    "cat_df.to_csv(datapath+'USFWS_Survey_Plotting_Data.csv', header=False, na_rep=0, float_format=\"%.3f\", index=False)"
   ]
  },
  {
   "cell_type": "markdown",
   "metadata": {},
   "source": [
    "<h4>The End</h4>   USFWS_Survey_Plotting_Data"
   ]
  }
 ],
 "metadata": {
  "kernelspec": {
   "display_name": "Python 3",
   "language": "python",
   "name": "python3"
  },
  "language_info": {
   "codemirror_mode": {
    "name": "ipython",
    "version": 3
   },
   "file_extension": ".py",
   "mimetype": "text/x-python",
   "name": "python",
   "nbconvert_exporter": "python",
   "pygments_lexer": "ipython3",
   "version": "3.5.2"
  }
 },
 "nbformat": 4,
 "nbformat_minor": 2
}
